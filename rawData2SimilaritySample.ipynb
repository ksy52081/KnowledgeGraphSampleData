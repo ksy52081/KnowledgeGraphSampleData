{
 "cells": [
  {
   "cell_type": "code",
   "execution_count": 48,
   "id": "932f5293-c846-4eb2-a310-af6d35b733b7",
   "metadata": {
    "tags": []
   },
   "outputs": [],
   "source": [
    "# 라이브러리 호출\n",
    "import numpy as np\n",
    "import pandas as pd\n",
    "from datetime import datetime"
   ]
  },
  {
   "cell_type": "code",
   "execution_count": 49,
   "id": "fd75f7c3-e541-4c13-b28e-f0d9a40b810a",
   "metadata": {
    "tags": []
   },
   "outputs": [
    {
     "data": {
      "text/html": [
       "<div>\n",
       "<style scoped>\n",
       "    .dataframe tbody tr th:only-of-type {\n",
       "        vertical-align: middle;\n",
       "    }\n",
       "\n",
       "    .dataframe tbody tr th {\n",
       "        vertical-align: top;\n",
       "    }\n",
       "\n",
       "    .dataframe thead th {\n",
       "        text-align: right;\n",
       "    }\n",
       "</style>\n",
       "<table border=\"1\" class=\"dataframe\">\n",
       "  <thead>\n",
       "    <tr style=\"text-align: right;\">\n",
       "      <th></th>\n",
       "      <th>Date</th>\n",
       "      <th>OA</th>\n",
       "      <th>OB</th>\n",
       "      <th>DA</th>\n",
       "      <th>DB</th>\n",
       "      <th>population</th>\n",
       "    </tr>\n",
       "  </thead>\n",
       "  <tbody>\n",
       "    <tr>\n",
       "      <th>0</th>\n",
       "      <td>20230920</td>\n",
       "      <td>성동구</td>\n",
       "      <td>성수2가1동</td>\n",
       "      <td>은평구</td>\n",
       "      <td>대조동</td>\n",
       "      <td>3</td>\n",
       "    </tr>\n",
       "    <tr>\n",
       "      <th>1</th>\n",
       "      <td>20230920</td>\n",
       "      <td>성동구</td>\n",
       "      <td>성수2가1동</td>\n",
       "      <td>은평구</td>\n",
       "      <td>불광1동</td>\n",
       "      <td>2</td>\n",
       "    </tr>\n",
       "    <tr>\n",
       "      <th>2</th>\n",
       "      <td>20230920</td>\n",
       "      <td>성동구</td>\n",
       "      <td>성수2가1동</td>\n",
       "      <td>은평구</td>\n",
       "      <td>불광2동</td>\n",
       "      <td>1</td>\n",
       "    </tr>\n",
       "    <tr>\n",
       "      <th>3</th>\n",
       "      <td>20230920</td>\n",
       "      <td>성동구</td>\n",
       "      <td>성수2가1동</td>\n",
       "      <td>은평구</td>\n",
       "      <td>수색동</td>\n",
       "      <td>2</td>\n",
       "    </tr>\n",
       "    <tr>\n",
       "      <th>4</th>\n",
       "      <td>20230920</td>\n",
       "      <td>성동구</td>\n",
       "      <td>성수2가1동</td>\n",
       "      <td>은평구</td>\n",
       "      <td>신사1동</td>\n",
       "      <td>3</td>\n",
       "    </tr>\n",
       "  </tbody>\n",
       "</table>\n",
       "</div>"
      ],
      "text/plain": [
       "       Date   OA      OB   DA    DB  population\n",
       "0  20230920  성동구  성수2가1동  은평구   대조동           3\n",
       "1  20230920  성동구  성수2가1동  은평구  불광1동           2\n",
       "2  20230920  성동구  성수2가1동  은평구  불광2동           1\n",
       "3  20230920  성동구  성수2가1동  은평구   수색동           2\n",
       "4  20230920  성동구  성수2가1동  은평구  신사1동           3"
      ]
     },
     "execution_count": 49,
     "metadata": {},
     "output_type": "execute_result"
    }
   ],
   "source": [
    "# 데이터 불러오기\n",
    "rawData = pd.read_csv('TPSS_region_OD3.csv', encoding='cp949', sep=\",\")\n",
    "rawData.head()"
   ]
  },
  {
   "cell_type": "code",
   "execution_count": 50,
   "id": "3cf3f804-69aa-4e97-a22f-c495ae1641a4",
   "metadata": {
    "tags": []
   },
   "outputs": [],
   "source": [
    "# OB 와 DB 가 같은 지역 제거\n",
    "# 날짜는 20230920 인 경우만으로 필터링\n",
    "# population 이 적어도 100 이 넘는 지역만\n",
    "# population 의 내림차순으로 정렬하기.\n",
    "\n",
    "filterdDf =rawData[(rawData['OB']!=rawData['DB'])&(rawData['Date']==20230920)&(rawData['population']>100)].sort_values('population', ascending= False)"
   ]
  },
  {
   "cell_type": "code",
   "execution_count": 51,
   "id": "adff7958-0ad0-492f-885b-b8faa59dac5a",
   "metadata": {
    "tags": []
   },
   "outputs": [],
   "source": [
    "filterdDf =filterdDf.loc[:,['OB','DB','population']]"
   ]
  },
  {
   "cell_type": "code",
   "execution_count": null,
   "id": "198e869e-f228-4627-b290-b81bdd986f8e",
   "metadata": {
    "tags": []
   },
   "outputs": [],
   "source": []
  },
  {
   "cell_type": "code",
   "execution_count": 52,
   "id": "15b3796a-423c-419d-97f5-bb63813716be",
   "metadata": {
    "tags": []
   },
   "outputs": [],
   "source": [
    "# 지역과 ID를 매핑하는 딕셔너리 생성\n",
    "region_id_mapping = {}\n",
    "unique_regions = pd.concat([filterdDf['OB'], filterdDf['DB']]).unique()\n",
    "for idx, region in enumerate(unique_regions):\n",
    "    region_id_mapping[region] = idx\n"
   ]
  },
  {
   "cell_type": "code",
   "execution_count": 53,
   "id": "d2d8c516-14c7-4423-874a-cd874eb3aa98",
   "metadata": {
    "tags": []
   },
   "outputs": [],
   "source": [
    "# A에서 B로 이동하는 데이터 복사\n",
    "output1 = filterdDf.copy()\n",
    "\n",
    "# B에서 A로 이동하는 데이터 복사\n",
    "output2 = filterdDf.copy()\n",
    "# 열 이름 바꾸기\n",
    "output2.columns = ['DB', 'OB', 'population']\n",
    "\n",
    "# 두 데이터프레임 병합\n",
    "merged_df = pd.concat([output1, output2])\n",
    "\n",
    "# Location_1 및 Location_2 열의 값을 ID로 바꾸기\n",
    "merged_df['DB'] = merged_df['DB'].map(region_id_mapping)\n",
    "merged_df['OB'] = merged_df['OB'].map(region_id_mapping)\n",
    "\n",
    "# 동일한 출발지와 도착지를 가진 데이터 합치기\n",
    "result_df = merged_df.groupby(['DB', 'OB']).sum().reset_index()\n",
    "\n",
    "# (Location_1=지역1 & Location_2=지역3)와 (Location_1=지역3 & Location_2=지역1)을 같은 것으로 처리\n",
    "result_df['Unique_DB'] = result_df[['DB', 'OB']].min(axis=1)\n",
    "result_df['Unique_OB'] = result_df[['DB', 'OB']].max(axis=1)\n",
    "\n",
    "# 중복된 데이터 제거\n",
    "result_df = result_df.drop_duplicates(subset=['Unique_DB', 'Unique_OB'])\n",
    "\n",
    "# 불필요한 열 제거\n",
    "result_df = result_df.drop(columns=['Unique_DB', 'Unique_OB'])\n",
    "\n"
   ]
  },
  {
   "cell_type": "code",
   "execution_count": null,
   "id": "62e1c703-892b-438b-a568-451d7d429b1b",
   "metadata": {},
   "outputs": [],
   "source": []
  },
  {
   "cell_type": "code",
   "execution_count": 54,
   "id": "156668ac-98a0-40d5-bda7-7cf490b74ec1",
   "metadata": {
    "tags": []
   },
   "outputs": [],
   "source": [
    "# 고유 ID와 지역 매핑 정보를 저장할 데이터프레임 생성\n",
    "region_id_df = pd.DataFrame(list(region_id_mapping.items()), columns=['Region', 'ID'])\n",
    "\n",
    "# 데이터 타입 추가\n",
    "region_id_df['DataType'] = \"FILE\"\n",
    "\n",
    "# 랜덤 이름을 추가\n",
    "users = ['Admin','JH','JY','MS','SY','YS','Gasfard', 'Pierre', 'Santiago','Pel','Royd','Dhino','Charlie']\n",
    "region_id_df['User'] = np.random.choice(users, len(region_id_df))\n",
    "\n",
    "# 현재 시간을 얻어 'CreatedTime' 열에 추가\n",
    "region_id_df['CreatedTime'] = datetime.now()\n",
    "\n",
    "# Region 값을 가져와 설명을 추가\n",
    "region_id_df['description'] = region_id_df['Region'] + '에 대한 설명'\n",
    "\n",
    "# 해시태그 키워드\n",
    "region_id_df['Keyword'] = [f\"[{region}, '지역', '수도권']\" for region in region_id_df['Region']]\n",
    "\n",
    "\n",
    "region_id_df = region_id_df[['ID', 'Region','DataType', 'User', 'CreatedTime', 'description', 'Keyword']]\n",
    "\n"
   ]
  },
  {
   "cell_type": "code",
   "execution_count": 38,
   "id": "85c8d544-bc80-4156-b385-f91bda40c356",
   "metadata": {
    "tags": []
   },
   "outputs": [],
   "source": []
  },
  {
   "cell_type": "code",
   "execution_count": null,
   "id": "7937f1c4-fbad-4703-a122-50f00890c53a",
   "metadata": {},
   "outputs": [],
   "source": []
  },
  {
   "cell_type": "code",
   "execution_count": 55,
   "id": "5ff73545-3fdf-4db4-81e4-3e754eea1813",
   "metadata": {
    "tags": []
   },
   "outputs": [],
   "source": [
    "result_df['similarity'] = result_df['population']/result_df.max()['population']\n",
    "result_df=result_df.drop(columns=['population'])"
   ]
  },
  {
   "cell_type": "code",
   "execution_count": 56,
   "id": "1f549dba-4f16-46e2-adc5-3aa31369b6dd",
   "metadata": {
    "tags": []
   },
   "outputs": [
    {
     "data": {
      "text/html": [
       "<div>\n",
       "<style scoped>\n",
       "    .dataframe tbody tr th:only-of-type {\n",
       "        vertical-align: middle;\n",
       "    }\n",
       "\n",
       "    .dataframe tbody tr th {\n",
       "        vertical-align: top;\n",
       "    }\n",
       "\n",
       "    .dataframe thead th {\n",
       "        text-align: right;\n",
       "    }\n",
       "</style>\n",
       "<table border=\"1\" class=\"dataframe\">\n",
       "  <thead>\n",
       "    <tr style=\"text-align: right;\">\n",
       "      <th></th>\n",
       "      <th>DB</th>\n",
       "      <th>OB</th>\n",
       "      <th>similarity</th>\n",
       "    </tr>\n",
       "  </thead>\n",
       "  <tbody>\n",
       "    <tr>\n",
       "      <th>1632</th>\n",
       "      <td>7</td>\n",
       "      <td>244</td>\n",
       "      <td>1.000000</td>\n",
       "    </tr>\n",
       "    <tr>\n",
       "      <th>52</th>\n",
       "      <td>1</td>\n",
       "      <td>4</td>\n",
       "      <td>0.950253</td>\n",
       "    </tr>\n",
       "    <tr>\n",
       "      <th>318</th>\n",
       "      <td>2</td>\n",
       "      <td>6</td>\n",
       "      <td>0.928883</td>\n",
       "    </tr>\n",
       "    <tr>\n",
       "      <th>561</th>\n",
       "      <td>3</td>\n",
       "      <td>7</td>\n",
       "      <td>0.919692</td>\n",
       "    </tr>\n",
       "    <tr>\n",
       "      <th>51</th>\n",
       "      <td>1</td>\n",
       "      <td>3</td>\n",
       "      <td>0.878906</td>\n",
       "    </tr>\n",
       "    <tr>\n",
       "      <th>...</th>\n",
       "      <td>...</td>\n",
       "      <td>...</td>\n",
       "      <td>...</td>\n",
       "    </tr>\n",
       "    <tr>\n",
       "      <th>13400</th>\n",
       "      <td>142</td>\n",
       "      <td>418</td>\n",
       "      <td>0.011604</td>\n",
       "    </tr>\n",
       "    <tr>\n",
       "      <th>5954</th>\n",
       "      <td>36</td>\n",
       "      <td>101</td>\n",
       "      <td>0.011604</td>\n",
       "    </tr>\n",
       "    <tr>\n",
       "      <th>506</th>\n",
       "      <td>2</td>\n",
       "      <td>303</td>\n",
       "      <td>0.011604</td>\n",
       "    </tr>\n",
       "    <tr>\n",
       "      <th>6279</th>\n",
       "      <td>39</td>\n",
       "      <td>274</td>\n",
       "      <td>0.011604</td>\n",
       "    </tr>\n",
       "    <tr>\n",
       "      <th>4643</th>\n",
       "      <td>23</td>\n",
       "      <td>179</td>\n",
       "      <td>0.011604</td>\n",
       "    </tr>\n",
       "  </tbody>\n",
       "</table>\n",
       "<p>11753 rows × 3 columns</p>\n",
       "</div>"
      ],
      "text/plain": [
       "        DB   OB  similarity\n",
       "1632     7  244    1.000000\n",
       "52       1    4    0.950253\n",
       "318      2    6    0.928883\n",
       "561      3    7    0.919692\n",
       "51       1    3    0.878906\n",
       "...    ...  ...         ...\n",
       "13400  142  418    0.011604\n",
       "5954    36  101    0.011604\n",
       "506      2  303    0.011604\n",
       "6279    39  274    0.011604\n",
       "4643    23  179    0.011604\n",
       "\n",
       "[11753 rows x 3 columns]"
      ]
     },
     "execution_count": 56,
     "metadata": {},
     "output_type": "execute_result"
    }
   ],
   "source": [
    "result_df.sort_values('similarity', ascending= False)"
   ]
  },
  {
   "cell_type": "code",
   "execution_count": 57,
   "id": "91ffb4ab-9b61-4f73-ad2a-a624c985e788",
   "metadata": {
    "tags": []
   },
   "outputs": [
    {
     "data": {
      "text/html": [
       "<div>\n",
       "<style scoped>\n",
       "    .dataframe tbody tr th:only-of-type {\n",
       "        vertical-align: middle;\n",
       "    }\n",
       "\n",
       "    .dataframe tbody tr th {\n",
       "        vertical-align: top;\n",
       "    }\n",
       "\n",
       "    .dataframe thead th {\n",
       "        text-align: right;\n",
       "    }\n",
       "</style>\n",
       "<table border=\"1\" class=\"dataframe\">\n",
       "  <thead>\n",
       "    <tr style=\"text-align: right;\">\n",
       "      <th></th>\n",
       "      <th>ID</th>\n",
       "      <th>Region</th>\n",
       "      <th>DataType</th>\n",
       "      <th>User</th>\n",
       "      <th>CreatedTime</th>\n",
       "      <th>description</th>\n",
       "      <th>Keyword</th>\n",
       "    </tr>\n",
       "  </thead>\n",
       "  <tbody>\n",
       "    <tr>\n",
       "      <th>0</th>\n",
       "      <td>0</td>\n",
       "      <td>대학동</td>\n",
       "      <td>FILE</td>\n",
       "      <td>Pel</td>\n",
       "      <td>2023-10-26 01:13:27.104357</td>\n",
       "      <td>대학동에 대한 설명</td>\n",
       "      <td>[대학동, '지역', '수도권']</td>\n",
       "    </tr>\n",
       "    <tr>\n",
       "      <th>1</th>\n",
       "      <td>1</td>\n",
       "      <td>명동</td>\n",
       "      <td>FILE</td>\n",
       "      <td>YS</td>\n",
       "      <td>2023-10-26 01:13:27.104357</td>\n",
       "      <td>명동에 대한 설명</td>\n",
       "      <td>[명동, '지역', '수도권']</td>\n",
       "    </tr>\n",
       "    <tr>\n",
       "      <th>2</th>\n",
       "      <td>2</td>\n",
       "      <td>서초2동</td>\n",
       "      <td>FILE</td>\n",
       "      <td>Charlie</td>\n",
       "      <td>2023-10-26 01:13:27.104357</td>\n",
       "      <td>서초2동에 대한 설명</td>\n",
       "      <td>[서초2동, '지역', '수도권']</td>\n",
       "    </tr>\n",
       "    <tr>\n",
       "      <th>3</th>\n",
       "      <td>3</td>\n",
       "      <td>회현동</td>\n",
       "      <td>FILE</td>\n",
       "      <td>JH</td>\n",
       "      <td>2023-10-26 01:13:27.104357</td>\n",
       "      <td>회현동에 대한 설명</td>\n",
       "      <td>[회현동, '지역', '수도권']</td>\n",
       "    </tr>\n",
       "    <tr>\n",
       "      <th>4</th>\n",
       "      <td>4</td>\n",
       "      <td>서교동</td>\n",
       "      <td>FILE</td>\n",
       "      <td>Pel</td>\n",
       "      <td>2023-10-26 01:13:27.104357</td>\n",
       "      <td>서교동에 대한 설명</td>\n",
       "      <td>[서교동, '지역', '수도권']</td>\n",
       "    </tr>\n",
       "    <tr>\n",
       "      <th>...</th>\n",
       "      <td>...</td>\n",
       "      <td>...</td>\n",
       "      <td>...</td>\n",
       "      <td>...</td>\n",
       "      <td>...</td>\n",
       "      <td>...</td>\n",
       "      <td>...</td>\n",
       "    </tr>\n",
       "    <tr>\n",
       "      <th>613</th>\n",
       "      <td>613</td>\n",
       "      <td>상대원2동</td>\n",
       "      <td>FILE</td>\n",
       "      <td>SY</td>\n",
       "      <td>2023-10-26 01:13:27.104357</td>\n",
       "      <td>상대원2동에 대한 설명</td>\n",
       "      <td>[상대원2동, '지역', '수도권']</td>\n",
       "    </tr>\n",
       "    <tr>\n",
       "      <th>614</th>\n",
       "      <td>614</td>\n",
       "      <td>갈산동</td>\n",
       "      <td>FILE</td>\n",
       "      <td>Dhino</td>\n",
       "      <td>2023-10-26 01:13:27.104357</td>\n",
       "      <td>갈산동에 대한 설명</td>\n",
       "      <td>[갈산동, '지역', '수도권']</td>\n",
       "    </tr>\n",
       "    <tr>\n",
       "      <th>615</th>\n",
       "      <td>615</td>\n",
       "      <td>수택2동</td>\n",
       "      <td>FILE</td>\n",
       "      <td>Pierre</td>\n",
       "      <td>2023-10-26 01:13:27.104357</td>\n",
       "      <td>수택2동에 대한 설명</td>\n",
       "      <td>[수택2동, '지역', '수도권']</td>\n",
       "    </tr>\n",
       "    <tr>\n",
       "      <th>616</th>\n",
       "      <td>616</td>\n",
       "      <td>귀인동</td>\n",
       "      <td>FILE</td>\n",
       "      <td>Pierre</td>\n",
       "      <td>2023-10-26 01:13:27.104357</td>\n",
       "      <td>귀인동에 대한 설명</td>\n",
       "      <td>[귀인동, '지역', '수도권']</td>\n",
       "    </tr>\n",
       "    <tr>\n",
       "      <th>617</th>\n",
       "      <td>617</td>\n",
       "      <td>산본2동</td>\n",
       "      <td>FILE</td>\n",
       "      <td>SY</td>\n",
       "      <td>2023-10-26 01:13:27.104357</td>\n",
       "      <td>산본2동에 대한 설명</td>\n",
       "      <td>[산본2동, '지역', '수도권']</td>\n",
       "    </tr>\n",
       "  </tbody>\n",
       "</table>\n",
       "<p>618 rows × 7 columns</p>\n",
       "</div>"
      ],
      "text/plain": [
       "      ID Region DataType     User                CreatedTime   description  \\\n",
       "0      0    대학동     FILE      Pel 2023-10-26 01:13:27.104357    대학동에 대한 설명   \n",
       "1      1     명동     FILE       YS 2023-10-26 01:13:27.104357     명동에 대한 설명   \n",
       "2      2   서초2동     FILE  Charlie 2023-10-26 01:13:27.104357   서초2동에 대한 설명   \n",
       "3      3    회현동     FILE       JH 2023-10-26 01:13:27.104357    회현동에 대한 설명   \n",
       "4      4    서교동     FILE      Pel 2023-10-26 01:13:27.104357    서교동에 대한 설명   \n",
       "..   ...    ...      ...      ...                        ...           ...   \n",
       "613  613  상대원2동     FILE       SY 2023-10-26 01:13:27.104357  상대원2동에 대한 설명   \n",
       "614  614    갈산동     FILE    Dhino 2023-10-26 01:13:27.104357    갈산동에 대한 설명   \n",
       "615  615   수택2동     FILE   Pierre 2023-10-26 01:13:27.104357   수택2동에 대한 설명   \n",
       "616  616    귀인동     FILE   Pierre 2023-10-26 01:13:27.104357    귀인동에 대한 설명   \n",
       "617  617   산본2동     FILE       SY 2023-10-26 01:13:27.104357   산본2동에 대한 설명   \n",
       "\n",
       "                  Keyword  \n",
       "0      [대학동, '지역', '수도권']  \n",
       "1       [명동, '지역', '수도권']  \n",
       "2     [서초2동, '지역', '수도권']  \n",
       "3      [회현동, '지역', '수도권']  \n",
       "4      [서교동, '지역', '수도권']  \n",
       "..                    ...  \n",
       "613  [상대원2동, '지역', '수도권']  \n",
       "614    [갈산동, '지역', '수도권']  \n",
       "615   [수택2동, '지역', '수도권']  \n",
       "616    [귀인동, '지역', '수도권']  \n",
       "617   [산본2동, '지역', '수도권']  \n",
       "\n",
       "[618 rows x 7 columns]"
      ]
     },
     "execution_count": 57,
     "metadata": {},
     "output_type": "execute_result"
    }
   ],
   "source": [
    "region_id_df"
   ]
  },
  {
   "cell_type": "code",
   "execution_count": null,
   "id": "2eab8551-1c0d-4fc3-aea6-1ad6b293181d",
   "metadata": {},
   "outputs": [],
   "source": []
  },
  {
   "cell_type": "code",
   "execution_count": null,
   "id": "51979236-b2ed-45c2-88bb-5c5f6353f213",
   "metadata": {},
   "outputs": [],
   "source": []
  },
  {
   "cell_type": "code",
   "execution_count": 58,
   "id": "20fd9362-165e-4b89-9cfd-4b200ca5cd4a",
   "metadata": {
    "tags": []
   },
   "outputs": [],
   "source": [
    "# CSV 파일로 저장\n",
    "result_df.to_csv('RelationAnalysis.csv', index=False)\n"
   ]
  },
  {
   "cell_type": "code",
   "execution_count": 59,
   "id": "dbb701d7-bdfa-455f-8590-9d060c9c574d",
   "metadata": {
    "tags": []
   },
   "outputs": [],
   "source": [
    "# CSV 파일로 지역과 ID 매핑 정보 저장\n",
    "region_id_df.to_csv('ID_DO_Mapping.csv', index=False)"
   ]
  },
  {
   "cell_type": "code",
   "execution_count": null,
   "id": "3580c1f3-f5ee-4840-8c30-53d84f60f14e",
   "metadata": {},
   "outputs": [],
   "source": []
  },
  {
   "cell_type": "code",
   "execution_count": null,
   "id": "f351bd70-43e9-4bb7-b55d-f709a525c2c1",
   "metadata": {},
   "outputs": [],
   "source": []
  },
  {
   "cell_type": "code",
   "execution_count": null,
   "id": "bbf5f82a-ee24-4fda-a8c2-5567a2bdfffc",
   "metadata": {},
   "outputs": [],
   "source": []
  },
  {
   "cell_type": "code",
   "execution_count": null,
   "id": "86d01d05-f6b0-470b-88cc-875a714d32fa",
   "metadata": {},
   "outputs": [],
   "source": []
  },
  {
   "cell_type": "code",
   "execution_count": null,
   "id": "24b5289d-41f0-461d-a96d-e07659f8f122",
   "metadata": {},
   "outputs": [],
   "source": []
  },
  {
   "cell_type": "code",
   "execution_count": 62,
   "id": "567fabf1-f847-4650-a1a0-0b0adb25a9cb",
   "metadata": {
    "tags": []
   },
   "outputs": [
    {
     "name": "stdout",
     "output_type": "stream",
     "text": [
      "  Region  Value   ID\n",
      "0    대학동    100    0\n",
      "1    서교동    200    4\n",
      "2  상대원2동    150  613\n",
      "3    귀인동     50  616\n"
     ]
    }
   ],
   "source": [
    "# 예시 데이터프레임 생성\n",
    "data = {\n",
    "    'Region': ['대학동', '서교동', '상대원2동', '귀인동'],\n",
    "    'Value': [100, 200, 150, 50]\n",
    "}\n",
    "\n",
    "df = pd.DataFrame(data)\n",
    "\n",
    "# 'region_id_df'에서 Region과 ID 값만 선택\n",
    "region_id_mapping = region_id_df[['ID', 'Region']]\n",
    "\n",
    "# 'df'와 'region_id_mapping'을 병합하여 Region 값을 ID로 변환\n",
    "# result_df = df.merge(region_id_mapping, left_on='Region', right_on='Region', how='left')\n",
    "\n",
    "pd.merge(result_df, region_id_mapping, left_on = 'Region', right_on = 'Region', how='left')\n",
    "\n",
    "# 결과를 출력\n",
    "print(result_df)"
   ]
  },
  {
   "cell_type": "code",
   "execution_count": null,
   "id": "46e13a4b-a69f-4e10-b1b1-99f42f99dbf3",
   "metadata": {},
   "outputs": [],
   "source": []
  }
 ],
 "metadata": {
  "kernelspec": {
   "display_name": "Python 3 (ipykernel)",
   "language": "python",
   "name": "python3"
  },
  "language_info": {
   "codemirror_mode": {
    "name": "ipython",
    "version": 3
   },
   "file_extension": ".py",
   "mimetype": "text/x-python",
   "name": "python",
   "nbconvert_exporter": "python",
   "pygments_lexer": "ipython3",
   "version": "3.11.5"
  }
 },
 "nbformat": 4,
 "nbformat_minor": 5
}
